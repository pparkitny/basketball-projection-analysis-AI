{
  "nbformat": 4,
  "nbformat_minor": 0,
  "metadata": {
    "colab": {
      "name": "Analiza.ipynb",
      "provenance": [],
      "collapsed_sections": [],
      "authorship_tag": "ABX9TyPIBj0e1/C2msmmVGtqI3vS",
      "include_colab_link": true
    },
    "kernelspec": {
      "name": "python3",
      "display_name": "Python 3"
    }
  },
  "cells": [
    {
      "cell_type": "markdown",
      "metadata": {
        "id": "view-in-github",
        "colab_type": "text"
      },
      "source": [
        "<a href=\"https://colab.research.google.com/github/pparkitny/basketball-projection-analysis-AI/blob/main/Analiza.ipynb\" target=\"_parent\"><img src=\"https://colab.research.google.com/assets/colab-badge.svg\" alt=\"Open In Colab\"/></a>"
      ]
    },
    {
      "cell_type": "code",
      "metadata": {
        "id": "H5GHqZv0dj-p",
        "colab": {
          "base_uri": "https://localhost:8080/"
        },
        "outputId": "1182a37d-20e3-4710-8376-d1cfff2afa0a"
      },
      "source": [
        "from google.colab import drive\n",
        "drive.mount('/content/drive')"
      ],
      "execution_count": 3,
      "outputs": [
        {
          "output_type": "stream",
          "text": [
            "Mounted at /content/drive\n"
          ],
          "name": "stdout"
        }
      ]
    },
    {
      "cell_type": "code",
      "metadata": {
        "id": "EaTD0zKfjep7"
      },
      "source": [
        "import json\n",
        "data = []\n",
        "\n",
        "with open('/content/drive/MyDrive/Y_OP/VID_20201110_170806-yolo.json') as json_file:\n",
        "  data = json.load(json_file)"
      ],
      "execution_count": 33,
      "outputs": []
    },
    {
      "cell_type": "code",
      "metadata": {
        "colab": {
          "base_uri": "https://localhost:8080/"
        },
        "id": "mALa3nBICUha",
        "outputId": "15fb6429-a0d7-4a54-c5b1-63e54f0ae563"
      },
      "source": [
        "import pandas as pd\n",
        "\n",
        "df_rows = list()\n",
        "for frame_id, frame in enumerate(data):\n",
        "    for obj in frame:\n",
        "        df_rows.append([frame_id, obj['name'], obj['percentage_probability'], *obj['box_points']])\n",
        "\n",
        "df = pd.DataFrame(df_rows, columns=[\"frame\", \"object\", \"proba\", \"x1\", \"y1\", \"x2\", \"y2\"])\n",
        "print(df)\n",
        "\n",
        "all_frames = df[\"frame\"].max() # ilość wszystkich klatek\n",
        "print(all_frames)\n",
        "all= df['object'].value_counts()\n",
        "print(all) # drukuje wszystkie\n",
        "\n",
        "# stworzenie dataframe z rim, gdzie jest ponad 90 % \n",
        "rim = df[(df['object']) == 'rim']\n",
        "gproba_rim = rim[rim['proba'] > 90]\n",
        " # stworzenie dataframe z ball, gdzie jest ponad 60 % \n",
        "ball = df[(df['object']) == 'ball']\n",
        "gproba_ball = ball[ball['proba'] > 60]\n",
        "# stworzenie dataframe z people, gdzie jest ponad 80 % \n",
        "people = df[(df['object']) =='people']\n",
        "gproba_pp= people[people['proba'] > 80]\n",
        "# połączenie trzech dataframe w jedno\n",
        "df=pd.concat([gproba_pp, gproba_ball,gproba_rim])\n",
        "\n",
        "all_good = df['object'].value_counts()\n",
        "print(all_good) # drukuje prawidłowe"
      ],
      "execution_count": 53,
      "outputs": [
        {
          "output_type": "stream",
          "text": [
            "     frame  object      proba    x1   y1    x2   y2\n",
            "0        0     rim  99.824744  1344  238  1484  344\n",
            "1        1     rim  99.820614  1343  238  1485  344\n",
            "2        1    ball  50.594467   280  704   335  737\n",
            "3        2     rim  99.814391  1344  238  1485  344\n",
            "4        3     rim  99.811375  1344  238  1485  344\n",
            "..     ...     ...        ...   ...  ...   ...  ...\n",
            "232     98     rim  99.751657  1341  235  1485  347\n",
            "233     98    ball  94.189703   953  293  1009  343\n",
            "234     99     rim  99.758506  1340  236  1487  346\n",
            "235     99    ball  89.972377   936  317   994  369\n",
            "236     99  people  61.721522   249  507   379  882\n",
            "\n",
            "[237 rows x 7 columns]\n",
            "99\n",
            "rim       100\n",
            "ball       75\n",
            "people     62\n",
            "Name: object, dtype: int64\n",
            "rim       100\n",
            "ball       67\n",
            "people     35\n",
            "Name: object, dtype: int64\n"
          ],
          "name": "stdout"
        }
      ]
    },
    {
      "cell_type": "code",
      "metadata": {
        "id": "2ZElRgkKnzyz",
        "colab": {
          "base_uri": "https://localhost:8080/"
        },
        "outputId": "75e211ae-3e0d-4135-e9d3-b0e9524e9e8a"
      },
      "source": [
        "# sprawdzanie ile klatek jest poprawnych (3 elementy)\n",
        "count_frames = df[\"frame\"].max()\n",
        "n = 0\n",
        "is_good = 0 # zmienna przechwująca dobre klatki\n",
        "bad_frames = [] # lista przechowująca złe klatki (potrzebne do openpose)\n",
        "good_frames = [] # lista przechowująca dobre klatki\n",
        "while n < count_frames: \n",
        "  one_frame = df[(df['frame']) == n]\n",
        "  x = one_frame['object'].count() # zliczanie ile mamy obiektów w  danej klatce\n",
        "  if \"rim\" in one_frame.values and \"people\" in one_frame.values and 'ball' in one_frame.values and x == 3:\n",
        "    print(\"Klatka\",n,\"jest git\")\n",
        "    is_good += 1\n",
        "    good_frames.append(n)\n",
        "  else:\n",
        "    print(\"Klatka\",n,\"nie jest git\")\n",
        "    df = df[df.frame != n]\n",
        "    bad_frames.append(n)\n",
        "  n += 1\n",
        "print(\"Dobrych klatek:\", is_good)\n",
        "ratio = is_good/count_frames  # jaki współczynnik klatek jest git\n",
        "print(\"wspolczynnik dobrych:\", ratio)\n",
        "if ratio > 0.5 :\n",
        "  print(\"Spoko film mordo\")\n",
        "else:\n",
        "  print(\"Daj inny film byczku\")"
      ],
      "execution_count": 52,
      "outputs": [
        {
          "output_type": "stream",
          "text": [
            "Klatka 0 nie jest git\n",
            "Klatka 1 nie jest git\n",
            "Klatka 2 nie jest git\n",
            "Klatka 3 nie jest git\n",
            "Klatka 4 nie jest git\n",
            "Klatka 5 nie jest git\n",
            "Klatka 6 nie jest git\n",
            "Klatka 7 nie jest git\n",
            "Klatka 8 nie jest git\n",
            "Klatka 9 nie jest git\n",
            "Klatka 10 nie jest git\n",
            "Klatka 11 nie jest git\n",
            "Klatka 12 nie jest git\n",
            "Klatka 13 nie jest git\n",
            "Klatka 14 nie jest git\n",
            "Klatka 15 nie jest git\n",
            "Klatka 16 nie jest git\n",
            "Klatka 17 nie jest git\n",
            "Klatka 18 nie jest git\n",
            "Klatka 19 nie jest git\n",
            "Klatka 20 nie jest git\n",
            "Klatka 21 nie jest git\n",
            "Klatka 22 nie jest git\n",
            "Klatka 23 nie jest git\n",
            "Klatka 24 nie jest git\n",
            "Klatka 25 nie jest git\n",
            "Klatka 26 nie jest git\n",
            "Klatka 27 nie jest git\n",
            "Klatka 28 nie jest git\n",
            "Klatka 29 nie jest git\n",
            "Klatka 30 nie jest git\n",
            "Klatka 31 nie jest git\n",
            "Klatka 32 nie jest git\n",
            "Klatka 33 nie jest git\n",
            "Klatka 34 nie jest git\n",
            "Klatka 35 nie jest git\n",
            "Klatka 36 nie jest git\n",
            "Klatka 37 nie jest git\n",
            "Klatka 38 nie jest git\n",
            "Klatka 39 nie jest git\n",
            "Klatka 40 nie jest git\n",
            "Klatka 41 nie jest git\n",
            "Klatka 42 nie jest git\n",
            "Klatka 43 nie jest git\n",
            "Klatka 44 jest git\n",
            "Klatka 45 jest git\n",
            "Klatka 46 nie jest git\n",
            "Klatka 47 nie jest git\n",
            "Klatka 48 nie jest git\n",
            "Klatka 49 jest git\n",
            "Klatka 50 jest git\n",
            "Klatka 51 nie jest git\n",
            "Klatka 52 nie jest git\n",
            "Klatka 53 nie jest git\n",
            "Klatka 54 nie jest git\n",
            "Klatka 55 nie jest git\n",
            "Klatka 56 jest git\n",
            "Klatka 57 jest git\n",
            "Klatka 58 jest git\n",
            "Klatka 59 jest git\n",
            "Klatka 60 jest git\n",
            "Klatka 61 jest git\n",
            "Klatka 62 jest git\n",
            "Klatka 63 jest git\n",
            "Klatka 64 jest git\n",
            "Klatka 65 jest git\n",
            "Klatka 66 jest git\n",
            "Klatka 67 jest git\n",
            "Klatka 68 nie jest git\n",
            "Klatka 69 nie jest git\n",
            "Klatka 70 nie jest git\n",
            "Klatka 71 nie jest git\n",
            "Klatka 72 nie jest git\n",
            "Klatka 73 nie jest git\n",
            "Klatka 74 nie jest git\n",
            "Klatka 75 nie jest git\n",
            "Klatka 76 jest git\n",
            "Klatka 77 nie jest git\n",
            "Klatka 78 nie jest git\n",
            "Klatka 79 nie jest git\n",
            "Klatka 80 nie jest git\n",
            "Klatka 81 nie jest git\n",
            "Klatka 82 nie jest git\n",
            "Klatka 83 nie jest git\n",
            "Klatka 84 nie jest git\n",
            "Klatka 85 nie jest git\n",
            "Klatka 86 nie jest git\n",
            "Klatka 87 nie jest git\n",
            "Klatka 88 nie jest git\n",
            "Klatka 89 jest git\n",
            "Klatka 90 jest git\n",
            "Klatka 91 jest git\n",
            "Klatka 92 nie jest git\n",
            "Klatka 93 nie jest git\n",
            "Klatka 94 jest git\n",
            "Klatka 95 nie jest git\n",
            "Klatka 96 jest git\n",
            "Klatka 97 nie jest git\n",
            "Klatka 98 nie jest git\n",
            "Dobrych klatek: 22\n",
            "wspolczynnik dobrych: 0.2222222222222222\n",
            "Daj inny film byczku\n"
          ],
          "name": "stdout"
        }
      ]
    },
    {
      "cell_type": "code",
      "metadata": {
        "id": "iyP1g--Z85O-",
        "colab": {
          "base_uri": "https://localhost:8080/"
        },
        "outputId": "ffa261f2-2ad8-4a00-c7e7-99bdfb43965a"
      },
      "source": [
        "# i teraz trzeba sprawdzić na ilu klatkach widać przechodzącą pilke przez obrecz (trafiony)\n",
        "for n in good_frames:\n",
        "  one_frame= df[(df['frame']) == n]\n",
        "# wyciągamy koordynaty piłki\n",
        "  ball_cords = one_frame[(one_frame['object']) == 'ball']\n",
        "  b_x1 = ball_cords['x1'].item()\n",
        "  b_x2 = ball_cords['x2'].item()\n",
        "  b_y1 = ball_cords['y1'].item()\n",
        "  b_y2 = ball_cords['y2'].item()\n",
        "# wyliczamy środek piłki\n",
        "  b_x = (b_x1 + b_x2)/2\n",
        "  b_y = (b_y1 + b_y2)/2\n",
        "# wyciągamy koordynaty ramki\n",
        "  rim_cords = one_frame[(one_frame['object']) == 'rim']\n",
        "  r_x1 = rim_cords['x1'].item()\n",
        "  r_x2 = rim_cords['x2'].item()\n",
        "  r_y1 = rim_cords['y1'].item()\n",
        "  r_y2 = rim_cords['y2'].item()\n",
        "# sprawdzamy czy środek piłki przeszedł przez ramkę\n",
        "  if b_x1 == r_x1 and b_x2 == r_x2 and b_y1 == r_y1 and b_y2 == r_y2:\n",
        "    df = df[df.frame != n]\n",
        "  elif r_x1 < b_x and r_x2 > b_x and r_y1 < b_y and r_y2 > b_y:\n",
        "    print(n, \"TRAFIONE!\")\n",
        "  else:\n",
        "    print(n, \"nie trafione :(\")"
      ],
      "execution_count": 54,
      "outputs": [
        {
          "output_type": "stream",
          "text": [
            "44 nie trafione :(\n",
            "45 nie trafione :(\n",
            "49 nie trafione :(\n",
            "50 nie trafione :(\n",
            "56 nie trafione :(\n",
            "57 nie trafione :(\n",
            "58 nie trafione :(\n",
            "59 nie trafione :(\n",
            "60 nie trafione :(\n",
            "61 nie trafione :(\n",
            "62 nie trafione :(\n",
            "63 nie trafione :(\n",
            "64 nie trafione :(\n",
            "65 nie trafione :(\n",
            "66 nie trafione :(\n",
            "67 nie trafione :(\n",
            "76 nie trafione :(\n",
            "89 nie trafione :(\n",
            "90 nie trafione :(\n",
            "91 nie trafione :(\n",
            "94 nie trafione :(\n",
            "96 nie trafione :(\n"
          ],
          "name": "stdout"
        }
      ]
    },
    {
      "cell_type": "code",
      "metadata": {
        "id": "rgEkAxSlfLIW",
        "colab": {
          "base_uri": "https://localhost:8080/"
        },
        "outputId": "7b16e990-b816-4c9d-fcd2-32c059f83636"
      },
      "source": [
        "#pobranie dataframe openpose\n",
        "with open('/content/drive/MyDrive/Y_OP/VID_20201110_170806-openpose.json') as json_file:\n",
        "  data_op = json.load(json_file)\n",
        "\n",
        "df_rows = list()\n",
        "for frame_id, frame in enumerate(data_op):\n",
        "  for person_id, person in enumerate(frame['persons']):\n",
        "    for part_id, part in enumerate(person):\n",
        "      df_rows.append([frame_id, person_id, part_id, *part])\n",
        "\n",
        "df_op = pd.DataFrame(df_rows, columns=[\"frame\", \"person\", \"part\", \"x\", \"y\", \"proba\"])\n",
        "\n",
        "# usuwanie klatek w których YOLO nie wykryło 3 dobrych obiektów \n",
        "#   (tymczasowo usunięte bo chyba lepiej wykrywać czy punkt z op znajduje się w kwadracie z YOLO na każdej klatce)\n",
        "# for i in bad_frames:\n",
        "#   df_op = df_op[df_op.frame != i]\n",
        "# print(df_op)\n",
        "\n",
        "# zobaczenie czy środek ciała w ogóle jest na klatce xD\n",
        "# test = df_op[df_op['part'] == 8]\n",
        "# print(test)\n",
        "\n",
        "# usuwanie niepotrzebych punktów\n",
        "points = [15, 16, 17, 18, 19, 20, 21, 22, 23, 24]\n",
        "for i in points:\n",
        "  df_op = df_op[df_op.part != i]\n",
        "# print(df_op)\n",
        "\n",
        "# sprawdzenie wiekszego prawdopodobieństwa i usunięcie osób jeśli jest więcej niż jedna\n",
        "for frame_id, df_frame in df_op.groupby(\"frame\"):\n",
        "  probas = []\n",
        "  for person_id, df_person in df_frame.groupby(\"person\"):\n",
        "    probas.append(df_person['proba'].mean())\n",
        "  person_correct_id = probas.index(max(probas))\n",
        "  df_op = df_op[(df_op[\"frame\"] != frame_id) | ((df_op[\"frame\"] == frame_id) & (df_op[\"person\"] == person_correct_id))]\n",
        "\n",
        "# jaka osoba została na klatce\n",
        "#for frame_id, df_frame in df_op.groupby(\"frame\"):\n",
        "#   print(df_frame[\"person\"].unique())\n",
        "\n",
        "print(df_op)"
      ],
      "execution_count": 42,
      "outputs": [
        {
          "output_type": "stream",
          "text": [
            "      frame  person  part        x        y     proba\n",
            "0         0       0     0  288.889  597.848  0.917221\n",
            "1         0       0     1  230.078  627.393  0.781033\n",
            "2         0       0     2  233.060  633.253  0.829421\n",
            "3         0       0     3  244.721  709.805  0.898068\n",
            "4         0       0     4  294.804  739.328  0.938137\n",
            "...     ...     ...   ...      ...      ...       ...\n",
            "4560     99       0    10  309.497  862.958  0.813158\n",
            "4561     99       0    11  268.279  980.631  0.844107\n",
            "4562     99       0    12  288.991  759.839  0.834543\n",
            "4563     99       0    13  318.486  856.831  0.787023\n",
            "4564     99       0    14  277.109  957.111  0.719136\n",
            "\n",
            "[1500 rows x 6 columns]\n"
          ],
          "name": "stdout"
        }
      ]
    },
    {
      "cell_type": "code",
      "metadata": {
        "colab": {
          "base_uri": "https://localhost:8080/"
        },
        "id": "U1fbI8jJa6YU",
        "outputId": "ccfea8a5-de45-4b40-a3d6-a2f15630d5ad"
      },
      "source": [
        "# Sprawdzamy czy człowiek jest w człowieku xd\n",
        "one_frame_yolo = df[(df['frame'].isin(good_frames)) & (df['object'] == 'people')]\n",
        "one_frame_op = df_op[(df_op['frame'].isin(good_frames)) & (df_op['part'] == 8)]\n",
        "# merge obu dataframe\n",
        "person_check = pd.merge(one_frame_yolo, one_frame_op, how='inner', on='frame')\n",
        "# sprawdzamy czy środek człowieka z OpenPose znajduje się wewnątrz ramki People z Yolo\n",
        "def person_condition(x1, x2, x, y1, y2, y):\n",
        "  if x1 < x and x2 > x and y1 < y and y2 > y:\n",
        "    return True\n",
        "  return False\n",
        "  \n",
        "person_check['good'] = [person_condition(*row) for row in zip(person_check['x1'], person_check['x2'], person_check['x'], person_check['y1'], person_check['y2'], person_check['y'])]\n",
        "person_ratio = person_check['good'].value_counts().loc[True] / person_check.shape[0]\n",
        "\n",
        "if person_ratio > 0.90:\n",
        "  print(\"W pyte film\", person_ratio)\n",
        "else:\n",
        "  print(\"Dej nowy\", person_ratio)"
      ],
      "execution_count": 55,
      "outputs": [
        {
          "output_type": "stream",
          "text": [
            "W pyte film 1.0\n"
          ],
          "name": "stdout"
        }
      ]
    }
  ]
}